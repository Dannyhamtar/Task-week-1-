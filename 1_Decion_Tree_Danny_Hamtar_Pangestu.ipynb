{
  "cells": [
    {
      "cell_type": "markdown",
      "metadata": {
        "id": "view-in-github",
        "colab_type": "text"
      },
      "source": [
        "<a href=\"https://colab.research.google.com/github/Dannyhamtar/Task-week-1-/blob/main/1_Decion_Tree_Danny_Hamtar_Pangestu.ipynb\" target=\"_parent\"><img src=\"https://colab.research.google.com/assets/colab-badge.svg\" alt=\"Open In Colab\"/></a>"
      ]
    },
    {
      "cell_type": "markdown",
      "metadata": {
        "id": "3tlpgZnhLfKc"
      },
      "source": [
        "\n",
        "\n",
        "*   Nama: Danny Hamtar Pangestu / NIM: 1103210037\n",
        "*   Dataset: melb_data.csv\n",
        "\n"
      ]
    },
    {
      "cell_type": "code",
      "execution_count": null,
      "metadata": {
        "colab": {
          "base_uri": "https://localhost:8080/"
        },
        "id": "L9LBEYJnGWMi",
        "outputId": "6db16ea6-00f1-4616-c882-25bd217d38e6"
      },
      "outputs": [
        {
          "name": "stdout",
          "output_type": "stream",
          "text": [
            "   Unnamed: 0      Suburb           Address  Rooms Type      Price Method  \\\n",
            "0           1  Abbotsford      85 Turner St      2    h  1480000.0      S   \n",
            "1           2  Abbotsford   25 Bloomburg St      2    h  1035000.0      S   \n",
            "2           4  Abbotsford      5 Charles St      3    h  1465000.0     SP   \n",
            "3           5  Abbotsford  40 Federation La      3    h   850000.0     PI   \n",
            "4           6  Abbotsford       55a Park St      4    h  1600000.0     VB   \n",
            "\n",
            "  SellerG       Date  Distance  ...  Bathroom  Car  Landsize  BuildingArea  \\\n",
            "0  Biggin  3/12/2016       2.5  ...       1.0  1.0     202.0           NaN   \n",
            "1  Biggin  4/02/2016       2.5  ...       1.0  0.0     156.0          79.0   \n",
            "2  Biggin  4/03/2017       2.5  ...       2.0  0.0     134.0         150.0   \n",
            "3  Biggin  4/03/2017       2.5  ...       2.0  1.0      94.0           NaN   \n",
            "4  Nelson  4/06/2016       2.5  ...       1.0  2.0     120.0         142.0   \n",
            "\n",
            "   YearBuilt  CouncilArea  Lattitude Longtitude             Regionname  \\\n",
            "0        NaN        Yarra   -37.7996   144.9984  Northern Metropolitan   \n",
            "1     1900.0        Yarra   -37.8079   144.9934  Northern Metropolitan   \n",
            "2     1900.0        Yarra   -37.8093   144.9944  Northern Metropolitan   \n",
            "3        NaN        Yarra   -37.7969   144.9969  Northern Metropolitan   \n",
            "4     2014.0        Yarra   -37.8072   144.9941  Northern Metropolitan   \n",
            "\n",
            "   Propertycount  \n",
            "0         4019.0  \n",
            "1         4019.0  \n",
            "2         4019.0  \n",
            "3         4019.0  \n",
            "4         4019.0  \n",
            "\n",
            "[5 rows x 22 columns]\n",
            "Mean Absolute Error: 211.33940217391304\n"
          ]
        }
      ],
      "source": [
        "import pandas as pd\n",
        "from sklearn.model_selection import train_test_split\n",
        "from sklearn.tree import DecisionTreeRegressor\n",
        "from sklearn.metrics import mean_absolute_error\n",
        "\n",
        "# Memuat data dari file CSV\n",
        "url = \"/content/drive/MyDrive/Dataset/melb_data.csv\"\n",
        "df = pd.read_csv(url)\n",
        "\n",
        "# Menampilkan baris data pertama\n",
        "print(df.head())\n",
        "\n",
        "# Memisahkan fitur dan target dan memilih kolom dengan tipe int dan float\n",
        "X = df.select_dtypes(include=['float64','int64'])\n",
        "X = X.dropna(axis=1)\n",
        "y = df['Price']\n",
        "\n",
        "# Bagi data yang akan menjadi set pelatihan dan pengujian\n",
        "X_train, X_test, y_train, y_test = train_test_split(X, y, test_size=0.2, random_state=42)\n",
        "\n",
        "# Membuat model Decision Tree\n",
        "model = DecisionTreeRegressor(random_state=42)\n",
        "model.fit(X_train, y_train)\n",
        "\n",
        "# Melakukan prediksi nilai target pada set pengujian\n",
        "predictions = model.predict(X_test)\n",
        "\n",
        "# Melihat Performa Model\n",
        "mae = mean_absolute_error(y_test, predictions)\n",
        "print(f\"Mean Absolute Error: {mae}\")"
      ]
    }
  ],
  "metadata": {
    "colab": {
      "provenance": [],
      "include_colab_link": true
    },
    "kernelspec": {
      "display_name": "Python 3",
      "name": "python3"
    },
    "language_info": {
      "name": "python"
    }
  },
  "nbformat": 4,
  "nbformat_minor": 0
}